{
 "cells": [
  {
   "cell_type": "markdown",
   "id": "4511e0d8-f48c-4273-81b7-8cb8fa6a45e8",
   "metadata": {},
   "source": [
    "# Data Science Tools and Ecosystem"
   ]
  },
  {
   "cell_type": "markdown",
   "id": "b6157a04-b5e3-4367-977d-100acbfea132",
   "metadata": {
    "tags": []
   },
   "source": [
    "In this notebook, Data Science Tools and Ecosystem are summarized."
   ]
  },
  {
   "cell_type": "markdown",
   "id": "23e96c4f-3bf3-41ef-a633-6a978ed4aaea",
   "metadata": {},
   "source": [
    "**Objectives:**\n",
    "- Python\n",
    "- R\n",
    "- Julia\n",
    "- Java\n",
    "- Scala\n",
    "- JavaScript"
   ]
  },
  {
   "cell_type": "markdown",
   "id": "218238bb-1452-4b10-8f67-055a96f8e338",
   "metadata": {},
   "source": [
    "Some of the popular languages that Data Scientists use are:\n",
    "1. Python\n",
    "2. Julia\n",
    "3. R\n",
    "4. Java"
   ]
  },
  {
   "cell_type": "markdown",
   "id": "7562e2ce-74aa-4624-881b-f4e8d2e87256",
   "metadata": {},
   "source": [
    "Some of the commonly used libraries used by Data Scientists include:\n",
    "1. Pandas\n",
    "2. NumPy\n",
    "3. Matplotlib\n",
    "4. Seaborn"
   ]
  },
  {
   "cell_type": "markdown",
   "id": "4744c111-c1fb-435d-896d-4349d3b22583",
   "metadata": {},
   "source": [
    "| Data Science Tools|\n",
    "| ----------- |\n",
    "| Visual Studio Code      |\n",
    "| Jupyter Notebook   |\n",
    "| Spyder  |"
   ]
  },
  {
   "cell_type": "markdown",
   "id": "b2554bcd-2bba-4a89-9f16-e0c629d1439d",
   "metadata": {},
   "source": [
    "### Below are a few examples of evaluating arithmetic expressions in Python"
   ]
  },
  {
   "cell_type": "code",
   "execution_count": 3,
   "id": "f2bcade9-bdf0-439a-afa2-e9a6d20ea4a7",
   "metadata": {
    "tags": []
   },
   "outputs": [
    {
     "data": {
      "text/plain": [
       "17"
      ]
     },
     "execution_count": 3,
     "metadata": {},
     "output_type": "execute_result"
    }
   ],
   "source": [
    "#This a simple arithmetic expression to mutiply then add integers\n",
    "\n",
    "(3*4)+5"
   ]
  },
  {
   "cell_type": "code",
   "execution_count": 4,
   "id": "6c999508-c8e1-42ff-996a-a32756e8f5be",
   "metadata": {
    "tags": []
   },
   "outputs": [
    {
     "data": {
      "text/plain": [
       "3.3333333333333335"
      ]
     },
     "execution_count": 4,
     "metadata": {},
     "output_type": "execute_result"
    }
   ],
   "source": [
    "#This will convert 200 minutes to hours by diving by 60\n",
    "\n",
    "200/60"
   ]
  },
  {
   "cell_type": "markdown",
   "id": "d8fa307d-52df-45ea-91de-bb2e92d78fd7",
   "metadata": {},
   "source": [
    "## Author\n",
    "Charles Jeyaseelan"
   ]
  },
  {
   "cell_type": "code",
   "execution_count": null,
   "id": "b60ca2ce-2f1d-44c6-a0ce-022d53cc584d",
   "metadata": {},
   "outputs": [],
   "source": []
  }
 ],
 "metadata": {
  "kernelspec": {
   "display_name": "Python",
   "language": "python",
   "name": "conda-env-python-py"
  },
  "language_info": {
   "codemirror_mode": {
    "name": "ipython",
    "version": 3
   },
   "file_extension": ".py",
   "mimetype": "text/x-python",
   "name": "python",
   "nbconvert_exporter": "python",
   "pygments_lexer": "ipython3",
   "version": "3.7.12"
  }
 },
 "nbformat": 4,
 "nbformat_minor": 5
}
